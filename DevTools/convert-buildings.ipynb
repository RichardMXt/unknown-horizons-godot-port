{
 "cells": [
  {
   "cell_type": "code",
   "execution_count": null,
   "metadata": {},
   "outputs": [],
   "source": [
    "\"\"\" Converts multiline animation sprite to a single line srpite. Generates the animation sequence for the scene file. \"\"\"\n",
    "import numpy as np\n",
    "from PIL import Image\n",
    "from pathlib import Path\n",
    "base_dir = Path(\"../Assets/World/Buildings/Agricultural/CattleRun/Sprites\")\n",
    "src_image = Image.open(base_dir / \"CattleRun_work_45.png\")\n",
    "tile_size = np.array([192, 192])\n",
    "cols_rows = np.array([15, 10])\n",
    "width_height = (tile_size[0]*cols_rows[0]*cols_rows[1], tile_size[1]) # one wide image\n",
    "dst_image = Image.new(\"RGBA\", tuple(width_height))\n",
    "for i in range(0, 10):\n",
    "  crop = np.array([0,0,tile_size[0]*cols_rows[0],tile_size[1]])\n",
    "  crop += np.array([0,tile_size[1]*i,0,tile_size[1]*i])\n",
    "  # display(crop)\n",
    "  dst_image.paste(src_image.crop(tuple(crop)),(i*tile_size[0]*cols_rows[0],0))\n",
    "dst_image.save(base_dir / \"CattleRun_work_flat_45.png\")\n",
    "display(dst_image)\n",
    "\n",
    "for i in range(cols_rows[0]*cols_rows[1]):\n",
    "  print(f\"0:0/animation_frame_{i}/duration = 1.0\")"
   ]
  },
  {
   "cell_type": "code",
   "execution_count": null,
   "metadata": {},
   "outputs": [],
   "source": [
    "# [ext_resource type=\"Texture2D\" uid=\"uid://bvbq4ud7b5cx6\" path=\"res://Assets/World/Buildings/Agricultural/CattleRun/Sprites/CattleRun_work_45.png\" id=\"1_nncli\"]\n",
    "# generate atlas textures:\n",
    "for y in range(0, 15):\n",
    "\tfor x in range(0, 20):\n",
    "\t\tsrc_resource_id = \"1_nncli\"\n",
    "\t\tx_start = x*192\n",
    "\t\tx_end = (x+1)*192\n",
    "\t\ty_start = y*192\n",
    "\t\ty_end = (y+1)*192\n",
    "\t\tprint(\n",
    "f\"\"\"\n",
    "[sub_resource type=\"AtlasTexture\" id=\"AtlasTexture_{x:02}{y:02}\"]\n",
    "atlas = ExtResource(\"1_nncli\")\n",
    "region = Rect2({x_start}, {y_start}, {x_end}, {y_end})\"\"\")\n",
    "\n",
    "for y in range(0, 15):\n",
    "\tfor x in range(0, 20):\n",
    "\t\tprint(\n",
    "f\"\"\"{{\n",
    "\"duration\": 1.0,\n",
    "\"texture\": SubResource(\"AtlasTexture_{x:02}{y:02}\")\n",
    "}},\"\"\"\n",
    "\t\t)\n"
   ]
  },
  {
   "cell_type": "code",
   "execution_count": null,
   "metadata": {},
   "outputs": [],
   "source": [
    "import os\n",
    "# godot_parser - godot 3 file format only? doesn't support godot 4 animations\n",
    "from godot_parser import *\n",
    "from pathlib import Path\n",
    "\n",
    "# Create a new TSCN file\n",
    "file_content = Path(\"../Assets/World/Buildings/Agricultural/CattleRun/CattleRun2D.tscn\").read_text()\n",
    "scene = GDScene.parse(file_content)\n",
    "scene.write(Path(\"../Assets/World/Buildings/Agricultural/CattleRun/CattleRun2D.2.tscn\"))"
   ]
  }
 ],
 "metadata": {
  "kernelspec": {
   "display_name": "Python 3",
   "language": "python",
   "name": "python3"
  },
  "language_info": {
   "codemirror_mode": {
    "name": "ipython",
    "version": 3
   },
   "file_extension": ".py",
   "mimetype": "text/x-python",
   "name": "python",
   "nbconvert_exporter": "python",
   "pygments_lexer": "ipython3",
   "version": "3.12.7"
  }
 },
 "nbformat": 4,
 "nbformat_minor": 2
}
